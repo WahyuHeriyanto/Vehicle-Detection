{
  "nbformat": 4,
  "nbformat_minor": 0,
  "metadata": {
    "colab": {
      "name": "Vehicle_detection Using Open CV.ipynb",
      "provenance": [],
      "collapsed_sections": [],
      "authorship_tag": "ABX9TyMzHyW+1dZGwuy76zcc9Oee",
      "include_colab_link": true
    },
    "kernelspec": {
      "display_name": "Python 3",
      "name": "python3"
    },
    "language_info": {
      "name": "python"
    }
  },
  "cells": [
    {
      "cell_type": "markdown",
      "metadata": {
        "id": "view-in-github",
        "colab_type": "text"
      },
      "source": [
        "<a href=\"https://colab.research.google.com/github/darpankhanna/Vehicle-Detection-Using-OpenCV/blob/main/Vehicle_detection_Using_Open_CV.ipynb\" target=\"_parent\"><img src=\"https://colab.research.google.com/assets/colab-badge.svg\" alt=\"Open In Colab\"/></a>"
      ]
    },
    {
      "cell_type": "code",
      "metadata": {
        "colab": {
          "background_save": true
        },
        "id": "TH_qbzS5I4sD"
      },
      "source": [
        "import numpy as np\n",
        "import cv2\n",
        "from google.colab.patches import cv2_imshow\n",
        "\n",
        "cascade_src = '/content/cars.xml'\n",
        "video = '/content/video end.mp4'\n",
        "\n",
        "\n",
        "\n",
        "def detectCars(filename):\n",
        "  rectangles = []\n",
        "  cascade = cv2.CascadeClassifier(cascade_src)\n",
        "\n",
        "  vc = cv2.VideoCapture(filename)\n",
        "\n",
        "  if vc.isOpened():\n",
        "      rval , frame = vc.read()\n",
        "  else:\n",
        "      rval = False\n",
        "\n",
        "\n",
        "  while rval:\n",
        "    rval, frame = vc.read()\n",
        "    frameHeight, frameWidth, fdepth = frame.shape\n",
        "\n",
        "    # Resize\n",
        "    # frame = cv2.resize(frame, ( 600,  400 ))\n",
        "    gray = cv2.cvtColor(frame, cv2.COLOR_BGR2GRAY)\n",
        "\n",
        "    # haar detection.\n",
        "    cars = cascade.detectMultiScale(gray, 1.1, 1)\n",
        "\n",
        "\n",
        "    for (x, y, w, h) in cars:\n",
        "      cv2.rectangle(frame, (x, y), (x+w, y+h), (0, 0, 255), 2)\n",
        "\n",
        "\n",
        "    # show result\n",
        "    cv2_imshow(frame)\n",
        "\n",
        "    if cv2.waitKey(33) == ord('q'):\n",
        "      break\n",
        "\n",
        "  vc.release()\n",
        "\n",
        "\n",
        "detectCars(video)"
      ],
      "execution_count": null,
      "outputs": []
    }
  ]
}